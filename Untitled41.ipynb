{
  "nbformat": 4,
  "nbformat_minor": 0,
  "metadata": {
    "colab": {
      "provenance": [],
      "authorship_tag": "ABX9TyO+wZzgXp3TT5WjvvAuRcSB",
      "include_colab_link": true
    },
    "kernelspec": {
      "name": "python3",
      "display_name": "Python 3"
    },
    "language_info": {
      "name": "python"
    }
  },
  "cells": [
    {
      "cell_type": "markdown",
      "metadata": {
        "id": "view-in-github",
        "colab_type": "text"
      },
      "source": [
        "<a href=\"https://colab.research.google.com/github/crazyboyonline/A2OS-INTERVIEW/blob/main/Untitled41.ipynb\" target=\"_parent\"><img src=\"https://colab.research.google.com/assets/colab-badge.svg\" alt=\"Open In Colab\"/></a>"
      ]
    },
    {
      "cell_type": "markdown",
      "source": [
        "### 不妨一试\n",
        "\n",
        "\n",
        "*   作者：Neal\n",
        "*   最终去向：思瑞浦 管培生\n",
        "### 写在前边\n",
        "\n",
        "\n",
        "*   秋招结束后第一次对其进行全盘复盘。“不妨一试”是我对于2023届秋招的总结，当我们开始秋招时我们很多需要长时间积累的东西已经很难改变，这时候如何更加深度的认识自己且找到合适自己的工作就变的很重要，找工作在不能短时间提升自己的情况下更多是信息差，所以遇到好的公司好的机会不妨一试。个人能力和专业能力是我们的基本盘，但是从不是限制我们选择的因素，所以不妨一试。\n",
        "*   我的个人情况是本非硕二，本科是环境科学跨专业考研计算机，所以计算机技术水平一般，因此我个人经验在技术方面可能帮助不大，在一些面试感受和行业公司选择有点心得，这篇总结更多记录我的秋招经历，对于行业和职业的选择的一点思考。\n",
        "\n",
        "\n",
        "\n"
      ],
      "metadata": {
        "id": "q8venBOxugMD"
      }
    }
  ]
}